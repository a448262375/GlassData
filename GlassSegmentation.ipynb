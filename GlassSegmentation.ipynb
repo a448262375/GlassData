{
  "nbformat": 4,
  "nbformat_minor": 0,
  "metadata": {
    "colab": {
      "name": "GlassSegmentation.ipynb",
      "provenance": [],
      "collapsed_sections": [],
      "toc_visible": true,
      "authorship_tag": "ABX9TyNP65X1pTyAYPwXhxmGjAlh",
      "include_colab_link": true
    },
    "kernelspec": {
      "name": "python3",
      "display_name": "Python 3"
    },
    "accelerator": "GPU"
  },
  "cells": [
    {
      "cell_type": "markdown",
      "metadata": {
        "id": "view-in-github",
        "colab_type": "text"
      },
      "source": [
        "<a href=\"https://colab.research.google.com/github/a448262375/GlassData/blob/master/GlassSegmentation.ipynb\" target=\"_parent\"><img src=\"https://colab.research.google.com/assets/colab-badge.svg\" alt=\"Open In Colab\"/></a>"
      ]
    },
    {
      "cell_type": "markdown",
      "metadata": {
        "id": "Ml9XRY3SFSV9",
        "colab_type": "text"
      },
      "source": [
        "##ガラス画像のセグメンテーション\n",
        "本記事は下記のサイトを参考して作りました.  \n",
        "[1] https://colab.research.google.com/github/japan-medical-ai/medical-ai-course-materials/blob/master/notebooks/05_Image_Segmentation.ipynb?hl=ja#scrollTo=W5xg70FaSpro\n",
        "\n",
        "画像を対象とした深層学習の応用技術には様々なものがあります．例えば，画像の中の個別の物体の周りを矩形で囲むようにして検出する**物体検出**や，画像内で個別物体が占める領域を認識する**画像セグメンテーション**などがあります．\n",
        "\n",
        "**物体検出**は，対象物体の**「種類」と「位置」を認識する技術**であるといえます．\n",
        "\n",
        "**画像セグメンテーション**には2種類あります．1つは，個別の物体を区別するInstance-aware Segmentationです．もう一つは，同一クラスの物体であれば個を区別しないSemantic Segmentationです．今回は，後者を扱います．\n",
        "\n",
        "画像セグメンテーションは，画像全体に対して一つのクラスを割り当てる分類問題とは異なり，画像内の全ピクセルを，ピクセルごとに分類していきます．そのため，Pixel labeling タスクとも呼ばれます．これは，対象物体の**「種類」と「位置」と「形」を認識する技術**であるといえるでしょう．\n"
      ]
    },
    {
      "cell_type": "markdown",
      "metadata": {
        "id": "zHK2H4liCYO-",
        "colab_type": "text"
      },
      "source": [
        "## 環境構築\n",
        "\n",
        "ここで用いるライブラリは，\n",
        "\n",
        "- Chainer\n",
        "- CuPy\n",
        "- ChainerCV\n",
        "- matplotlib\n",
        "\n",
        "です．Google ColabではChainer, CuPy, matplotlibはすでにインストールされているため，ChainerCVを以下のようにしてインストールします．"
      ]
    },
    {
      "cell_type": "code",
      "metadata": {
        "colab_type": "code",
        "outputId": "51d2b4fc-861d-4a3d-f025-068e6328b2ac",
        "id": "Z6QZ8RkpJlD9",
        "colab": {
          "base_uri": "https://localhost:8080/",
          "height": 597
        }
      },
      "source": [
        "!pip install chainercv\n",
        "!curl https://colab.chainer.org/install | sh -\n",
        "\n",
        "import chainer\n",
        "import cupy\n",
        "import chainercv\n",
        "import matplotlib\n",
        "\n",
        "chainer.print_runtime_info()\n",
        "print('ChainerCV:', chainercv.__version__)\n",
        "print('matplotlib:', matplotlib.__version__)"
      ],
      "execution_count": 0,
      "outputs": [
        {
          "output_type": "stream",
          "text": [
            "Collecting chainercv\n",
            "\u001b[?25l  Downloading https://files.pythonhosted.org/packages/e8/1c/1f267ccf5ebdf1f63f1812fa0d2d0e6e35f0d08f63d2dcdb1351b0e77d85/chainercv-0.13.1.tar.gz (260kB)\n",
            "\r\u001b[K     |█▎                              | 10kB 24.6MB/s eta 0:00:01\r\u001b[K     |██▌                             | 20kB 28.9MB/s eta 0:00:01\r\u001b[K     |███▊                            | 30kB 32.7MB/s eta 0:00:01\r\u001b[K     |█████                           | 40kB 35.0MB/s eta 0:00:01\r\u001b[K     |██████▎                         | 51kB 21.9MB/s eta 0:00:01\r\u001b[K     |███████▌                        | 61kB 20.4MB/s eta 0:00:01\r\u001b[K     |████████▉                       | 71kB 16.7MB/s eta 0:00:01\r\u001b[K     |██████████                      | 81kB 16.0MB/s eta 0:00:01\r\u001b[K     |███████████▎                    | 92kB 16.5MB/s eta 0:00:01\r\u001b[K     |████████████▋                   | 102kB 15.9MB/s eta 0:00:01\r\u001b[K     |█████████████▉                  | 112kB 15.9MB/s eta 0:00:01\r\u001b[K     |███████████████                 | 122kB 15.9MB/s eta 0:00:01\r\u001b[K     |████████████████▍               | 133kB 15.9MB/s eta 0:00:01\r\u001b[K     |█████████████████▋              | 143kB 15.9MB/s eta 0:00:01\r\u001b[K     |██████████████████▉             | 153kB 15.9MB/s eta 0:00:01\r\u001b[K     |████████████████████▏           | 163kB 15.9MB/s eta 0:00:01\r\u001b[K     |█████████████████████▍          | 174kB 15.9MB/s eta 0:00:01\r\u001b[K     |██████████████████████▋         | 184kB 15.9MB/s eta 0:00:01\r\u001b[K     |████████████████████████        | 194kB 15.9MB/s eta 0:00:01\r\u001b[K     |█████████████████████████▏      | 204kB 15.9MB/s eta 0:00:01\r\u001b[K     |██████████████████████████▍     | 215kB 15.9MB/s eta 0:00:01\r\u001b[K     |███████████████████████████▋    | 225kB 15.9MB/s eta 0:00:01\r\u001b[K     |█████████████████████████████   | 235kB 15.9MB/s eta 0:00:01\r\u001b[K     |██████████████████████████████▏ | 245kB 15.9MB/s eta 0:00:01\r\u001b[K     |███████████████████████████████▍| 256kB 15.9MB/s eta 0:00:01\r\u001b[K     |████████████████████████████████| 266kB 15.9MB/s \n",
            "\u001b[?25hRequirement already satisfied: chainer>=6.0 in /usr/local/lib/python3.6/dist-packages (from chainercv) (6.5.0)\n",
            "Requirement already satisfied: Pillow in /usr/local/lib/python3.6/dist-packages (from chainercv) (7.0.0)\n",
            "Requirement already satisfied: numpy>=1.9.0 in /usr/local/lib/python3.6/dist-packages (from chainer>=6.0->chainercv) (1.18.2)\n",
            "Requirement already satisfied: typing-extensions<=3.6.6 in /usr/local/lib/python3.6/dist-packages (from chainer>=6.0->chainercv) (3.6.6)\n",
            "Requirement already satisfied: six>=1.9.0 in /usr/local/lib/python3.6/dist-packages (from chainer>=6.0->chainercv) (1.12.0)\n",
            "Requirement already satisfied: typing<=3.6.6 in /usr/local/lib/python3.6/dist-packages (from chainer>=6.0->chainercv) (3.6.6)\n",
            "Requirement already satisfied: protobuf>=3.0.0 in /usr/local/lib/python3.6/dist-packages (from chainer>=6.0->chainercv) (3.10.0)\n",
            "Requirement already satisfied: filelock in /usr/local/lib/python3.6/dist-packages (from chainer>=6.0->chainercv) (3.0.12)\n",
            "Requirement already satisfied: setuptools in /usr/local/lib/python3.6/dist-packages (from chainer>=6.0->chainercv) (46.1.3)\n",
            "Building wheels for collected packages: chainercv\n",
            "  Building wheel for chainercv (setup.py) ... \u001b[?25l\u001b[?25hdone\n",
            "  Created wheel for chainercv: filename=chainercv-0.13.1-cp36-cp36m-linux_x86_64.whl size=537351 sha256=ea688fc0866b745385ba946074fa7924f34a17ee1d3b6738cf0220f7c06beb8b\n",
            "  Stored in directory: /root/.cache/pip/wheels/ea/10/01/e221beaa4b3d8341aa819a39ab8d4677457c79c81f521f3a94\n",
            "Successfully built chainercv\n",
            "Installing collected packages: chainercv\n",
            "Successfully installed chainercv-0.13.1\n",
            "  % Total    % Received % Xferd  Average Speed   Time    Time     Time  Current\n",
            "                                 Dload  Upload   Total   Spent    Left  Speed\n",
            "100  1580  100  1580    0     0   4817      0 --:--:-- --:--:-- --:--:--  4817\n",
            "+ apt -y -q install cuda-libraries-dev-10-0\n",
            "Reading package lists...\n",
            "Building dependency tree...\n",
            "Reading state information...\n",
            "cuda-libraries-dev-10-0 is already the newest version (10.0.130-1).\n",
            "0 upgraded, 0 newly installed, 0 to remove and 25 not upgraded.\n",
            "+ pip install -q cupy-cuda100  chainer \n",
            "\u001b[K     |████████████████████████████████| 335.2MB 46kB/s \n",
            "\u001b[?25h+ set +ex\n",
            "Installation succeeded!\n"
          ],
          "name": "stdout"
        }
      ]
    },
    {
      "cell_type": "markdown",
      "metadata": {
        "id": "96ANfsD2CLnV",
        "colab_type": "text"
      },
      "source": [
        "## 使用するデータセット\n",
        "\n",
        "これから使用するデータセットは，ガラスが映っている画像と，作者がラベルを付けたものです．\n",
        "\n",
        "まずは，データをダウンロードします．これは配布元のデータセットを今回用いやすいように加工し終えたものです．"
      ]
    },
    {
      "cell_type": "code",
      "metadata": {
        "id": "U7s0FpyKMab0",
        "colab_type": "code",
        "colab": {}
      },
      "source": [
        "!if [ ! -d train ]; then curl -L -O https://github.com/a448262375/Glass_Detector/releases/download/glassdata/train.zip && unzip train.zip && rm -rf train.zip; fi\n",
        "!if [ ! -d val ]; then curl -L -O https://github.com/a448262375/Glass_Detector/releases/download/glassdata/val.zip && unzip val.zip && rm -rf val.zip; fi"
      ],
      "execution_count": 0,
      "outputs": []
    },
    {
      "cell_type": "markdown",
      "metadata": {
        "id": "2OwQlS4dFFaS",
        "colab_type": "text"
      },
      "source": [
        "一枚だけ画像を確認してみる."
      ]
    },
    {
      "cell_type": "code",
      "metadata": {
        "id": "43tQaurUILaq",
        "colab_type": "code",
        "outputId": "db4282d7-43de-4a09-dfc3-620c8f54fd1c",
        "colab": {
          "base_uri": "https://localhost:8080/",
          "height": 183
        }
      },
      "source": [
        "%matplotlib inline\n",
        "\n",
        "import matplotlib.pyplot as plt\n",
        "import numpy as np\n",
        "\n",
        "from PIL import Image\n",
        "\n",
        "# PILライブラリで画像を読み込む\n",
        "img = np.asarray(Image.open('train/image/001.png'))\n",
        "label = np.asarray(Image.open('train/label/001.png'))\n",
        "\n",
        "# matplotlibライブラリを使って2つの画像を並べて表示\n",
        "fig, axes = plt.subplots(1, 2)\n",
        "axes[0].set_axis_off()\n",
        "axes[0].imshow(img, cmap='gray')\n",
        "axes[1].set_axis_off()\n",
        "axes[1].imshow(label, cmap='gray')\n",
        "plt.show()"
      ],
      "execution_count": 0,
      "outputs": [
        {
          "output_type": "display_data",
          "data": {
            "image/png": "[encoded data removed]",
            "text/plain": [
              "<Figure size 432x288 with 2 Axes>"
            ]
          },
          "metadata": {
            "tags": [],
            "needs_background": "light"
          }
        }
      ]
    },
    {
      "cell_type": "markdown",
      "metadata": {
        "id": "qoztfTxNIXJD",
        "colab_type": "text"
      },
      "source": [
        "### データセットの準備\n",
        "\n",
        "ダウンロードしたデータセットを学習できるように準備をします．Chainerにはいくつかの便利なデータセットまわりのクラスが用意されています．`ImageDataset`は，画像ファイルへのファイルパスのリストを渡して初期化してやると，そのパスにある画像を**学習時に**ディスクから読み込み，それを返してくれるようなデータセットクラスです．`TupleDataset`は，複数のデータセットオブジェクトを渡して初期化すると，それらから同じインデックスを持つデータをタプルに束ねて返してくれるようなデータセットオブジェクトを作成するクラスです．（Pythonの`zip`と同様です．）\n",
        "\n",
        "今回はSemantic Segmentationなので，入力も出力も画像です．なので，2つの`ImageDataset`オブジェクトを作成します．"
      ]
    },
    {
      "cell_type": "code",
      "metadata": {
        "id": "Tv8YnOlXIVWX",
        "colab_type": "code",
        "outputId": "8d1bb54c-1f53-4502-bb6c-2f3edd34efd5",
        "colab": {
          "base_uri": "https://localhost:8080/",
          "height": 69
        }
      },
      "source": [
        "import glob\n",
        "from chainer import datasets\n",
        "\n",
        "def create_dataset(img_filenames, label_filenames):\n",
        "    img = datasets.ImageDataset(img_filenames)\n",
        "    img = datasets.TransformDataset(img, lambda x: x / 255.)  # 0-1に正規化\n",
        "    label = datasets.ImageDataset(label_filenames, dtype=np.int32)\n",
        "    dataset = datasets.TupleDataset(img, label)\n",
        "    return dataset\n",
        "\n",
        "def create_datasets():\n",
        "    # Python標準のglobを使ってMRI画像ファイル名/ラベル画像ファイル名の一覧を取得\n",
        "    train_img_filenames = sorted(glob.glob('train/image/*.png'))\n",
        "    train_label_filenames = sorted(glob.glob('train/label/*.png'))\n",
        "\n",
        "    # リストを渡して，データセットオブジェクト train を作成\n",
        "    train = create_dataset(train_img_filenames, train_label_filenames)\n",
        "\n",
        "    # 同様のことをvalidationデータに対しても行う\n",
        "    val_img_filenames = sorted(glob.glob('val/image/*.png'))\n",
        "    val_label_filenames = sorted(glob.glob('val/label/*.png'))\n",
        "    val = create_dataset(val_img_filenames, val_label_filenames)\n",
        "    \n",
        "    return train, val\n",
        "\n",
        "train, val = create_datasets()\n",
        "print('Dataset size:\\n\\ttrain:\\t{}\\n\\tvalid:\\t{}'.format(len(train), len(val)))"
      ],
      "execution_count": 0,
      "outputs": [
        {
          "output_type": "stream",
          "text": [
            "Dataset size:\n",
            "\ttrain:\t170\n",
            "\tvalid:\t10\n"
          ],
          "name": "stdout"
        }
      ]
    },
    {
      "cell_type": "code",
      "metadata": {
        "id": "JAjieRb4H_gM",
        "colab_type": "code",
        "colab": {}
      },
      "source": [
        "### モデルの定義\n",
        "\n",
        "次に，訓練するモデルの定義です．ここでは3種類のネットワークを定義します. 使用時にクラス名を指定すれば良い.\n",
        "1. 全結合型ニューラルネットワーク．\n",
        "2. Convolution neural network (CNN)\n",
        "3. SegNet\n",
        "4. UNet"
      ],
      "execution_count": 0,
      "outputs": []
    },
    {
      "cell_type": "code",
      "metadata": {
        "id": "vPieYoAEIdZc",
        "colab_type": "code",
        "outputId": "cff190d2-c5f3-4c0e-e455-56bd01bc0b1e",
        "colab": {
          "base_uri": "https://localhost:8080/",
          "height": 258
        }
      },
      "source": [
        "import chainer\n",
        "import chainer.functions as F\n",
        "import chainer.links as L\n",
        "\n",
        "from chainer import reporter\n",
        "from chainer import cuda\n",
        "from chainercv import evaluations\n",
        "\n",
        "from chainer import Chain\n",
        "class FullyConvolutionalNetwork(chainer.Chain):\n",
        "\n",
        "    def __init__(self, out_h, out_w):\n",
        "        super().__init__()\n",
        "        with self.init_scope():\n",
        "            self.l1 = L.Linear(None, 100)\n",
        "            self.l2 = L.Linear(100, 100)\n",
        "            self.l3 = L.Linear(100, out_h * out_w)\n",
        "        self.out_h = out_h\n",
        "        self.out_w = out_w\n",
        "\n",
        "    def forward(self, x):\n",
        "        h = F.relu(self.l1(x))\n",
        "        h = F.relu(self.l2(h))\n",
        "        h = self.l3(h)\n",
        "        n = x.shape[0]\n",
        "\n",
        "        return h.reshape((n, 1, self.out_h, self.out_w))\n",
        "\n",
        "class CNN(chainer.Chain):\n",
        "\n",
        "    def __init__(self, out_h, out_w, n_class=1):\n",
        "        super().__init__()\n",
        "        with self.init_scope():\n",
        "            # L.Convolution2D(in_ch, out_ch, ksize, stride, pad)\n",
        "            # in_chは省略することができるので，\n",
        "            # L.Convolution2D(out_ch, ksize, stride, pad)\n",
        "            # とかくこともできます．\n",
        "            self.conv1 = L.Convolution2D(None, 64, ksize=6, stride=2, pad=2)\n",
        "            self.conv2 = L.Convolution2D(None, 128, ksize=4, stride=2, pad=2)\n",
        "            self.conv3 = L.Convolution2D(None, 128, ksize=3, stride=1, pad=1)\n",
        "            self.conv4 = L.Convolution2D(None, 128, ksize=3, stride=1, pad=1)\n",
        "            self.conv5 = L.Convolution2D(None, 128, ksize=1, stride=1, pad=0)\n",
        "            # L.Deconvolution2D(in_ch, out_ch, ksize, stride, pad)\n",
        "            # in_chは省略することができるので，\n",
        "            # L.Deconvolution2D(out_ch, ksize, stride, pad)\n",
        "            # と書くこともできます．\n",
        "            self.deconv6 = L.Deconvolution2D(None, n_class, ksize=32, stride=15, pad=1)\n",
        "        self.out_h = out_h\n",
        "        self.out_w = out_w\n",
        "\n",
        "    def forward(self, x):\n",
        "        h = F.relu(self.conv1(x))\n",
        "        h = F.max_pooling_2d(h, 2, 2)\n",
        "\n",
        "        h = F.relu(self.conv2(h))\n",
        "        h = F.max_pooling_2d(h, 2, 2)\n",
        "\n",
        "        h = F.relu(self.conv3(h))\n",
        "        h = F.relu(self.conv4(h))\n",
        "        h = self.conv5(h)\n",
        "        h = self.deconv6(h)\n",
        "\n",
        "        return h.reshape(x.shape[0], 1, h.shape[2], h.shape[3])\n",
        "\n",
        "print('FullyConvolutionalNetwork:',FullyConvolutionalNetwork(360, 360)(np.zeros((1, 1, 360, 360), dtype=np.float32)).shape[2:])\n",
        "\n",
        "class SegNet(Chain):\n",
        "\n",
        "    def __init__(self, n_class=1):\n",
        "        super().__init__()\n",
        "        with self.init_scope():\n",
        "\n",
        "            self.enco1_1 = L.Convolution2D(None,  64, ksize=3, stride=1, pad=1) #image size will not change\n",
        "            self.enco2_1 = L.Convolution2D(None, 128, ksize=3, stride=1, pad=1)\n",
        "            self.enco3_1 = L.Convolution2D(None, 256, ksize=3, stride=1, pad=1)\n",
        "            self.enco4_1 = L.Convolution2D(None, 512, ksize=3, stride=1, pad=1)\n",
        "\n",
        "            self.deco4_1 = L.Convolution2D(None, 512, ksize=3, stride=1, pad=1)\n",
        "            self.deco3_1 = L.Convolution2D(None, 256, ksize=3, stride=1, pad=1)\n",
        "            self.deco2_1 = L.Convolution2D(None, 128, ksize=3, stride=1, pad=1)\n",
        "            self.deco1_1 = L.Convolution2D(None,  64, ksize=3, stride=1, pad=1)\n",
        "            self.deco0_1 = L.Convolution2D(None, n_class, ksize=1)\n",
        "\n",
        "            self.bn_enco1_1 = L.BatchNormalization( 64)\n",
        "            self.bn_enco2_1 = L.BatchNormalization(128)\n",
        "            self.bn_enco3_1 = L.BatchNormalization(256)\n",
        "            self.bn_enco4_1 = L.BatchNormalization(512)\n",
        "\n",
        "            self.bn_deco4_1 = L.BatchNormalization(512)\n",
        "            self.bn_deco3_1 = L.BatchNormalization(256)\n",
        "            self.bn_deco2_1 = L.BatchNormalization(128)\n",
        "            self.bn_deco1_1 = L.BatchNormalization( 64)\n",
        "\n",
        "    def __call__(self, x): #x = (batchsize, 3, 360, 480)\n",
        "        \n",
        "        x = F.local_response_normalization(x) #Needed for preventing from overfitting\n",
        "\n",
        "        h = F.relu(self.bn_enco1_1(self.enco1_1(x)))\n",
        "        h, idx1 = F.max_pooling_2d(h, 2, stride=2, return_indices=True)\n",
        "\n",
        "        h = F.relu(self.bn_enco2_1(self.enco2_1(h)))\n",
        "        h, idx2 = F.max_pooling_2d(h, 2, stride=2, return_indices=True) \n",
        "\n",
        "        h = F.relu(self.bn_enco3_1(self.enco3_1(h)))\n",
        "        h, idx3 = F.max_pooling_2d(h, 2, stride=2, return_indices=True) \n",
        "\n",
        "        h = F.relu(self.bn_enco4_1(self.enco4_1(h)))\n",
        "        \n",
        "        #h = F.dropout(h)\n",
        "        \n",
        "        h, idx4 = F.max_pooling_2d(h, 2, stride=2, return_indices=True) \n",
        "\n",
        "        h = F.relu(self.bn_deco4_1(self.deco4_1(h)))\n",
        "        h = F.unpooling_2d(h, ksize=2, stride=2, outsize=(idx3.shape[2], idx3.shape[3]))\n",
        "\n",
        "        h = F.relu(self.bn_deco3_1(self.deco3_1(h)))\n",
        "        h = F.unpooling_2d(h, ksize=2, stride=2, outsize=(idx2.shape[2], idx2.shape[3]))\n",
        "\n",
        "        h = F.relu(self.bn_deco2_1(self.deco2_1(h)))\n",
        "        h = F.unpooling_2d(h, ksize=2, stride=2, outsize=(idx1.shape[2], idx1.shape[3]))\n",
        "\n",
        "        h = F.relu(self.bn_deco1_1(self.deco1_1(h)))\n",
        "        h = F.unpooling_2d(h, ksize=2, stride=2, outsize=(x.shape[2], x.shape[3]))\n",
        "\n",
        "        h = self.deco0_1(h)\n",
        "\n",
        "        return h\n",
        "print('SegNet:',SegNet(360, 360)(np.zeros((1, 1, 360, 360), dtype=np.float32)).shape[2:])\n"
      ],
      "execution_count": 0,
      "outputs": [
        {
          "output_type": "stream",
          "text": [
            "FullyConvolutionalNetwork: (360, 360)\n"
          ],
          "name": "stdout"
        },
        {
          "output_type": "error",
          "ename": "TypeError",
          "evalue": "ignored",
          "traceback": [
            "\u001b[0;31m---------------------------------------------------------------------------\u001b[0m",
            "\u001b[0;31mTypeError\u001b[0m                                 Traceback (most recent call last)",
            "\u001b[0;32m<ipython-input-10-db15bed51548>\u001b[0m in \u001b[0;36m<module>\u001b[0;34m()\u001b[0m\n\u001b[1;32m    126\u001b[0m \u001b[0;34m\u001b[0m\u001b[0m\n\u001b[1;32m    127\u001b[0m         \u001b[0;32mreturn\u001b[0m \u001b[0mh\u001b[0m\u001b[0;34m\u001b[0m\u001b[0;34m\u001b[0m\u001b[0m\n\u001b[0;32m--> 128\u001b[0;31m \u001b[0mprint\u001b[0m\u001b[0;34m(\u001b[0m\u001b[0;34m'SegNet:'\u001b[0m\u001b[0;34m,\u001b[0m\u001b[0mSegNet\u001b[0m\u001b[0;34m(\u001b[0m\u001b[0;36m360\u001b[0m\u001b[0;34m,\u001b[0m \u001b[0;36m360\u001b[0m\u001b[0;34m)\u001b[0m\u001b[0;34m(\u001b[0m\u001b[0mnp\u001b[0m\u001b[0;34m.\u001b[0m\u001b[0mzeros\u001b[0m\u001b[0;34m(\u001b[0m\u001b[0;34m(\u001b[0m\u001b[0;36m1\u001b[0m\u001b[0;34m,\u001b[0m \u001b[0;36m1\u001b[0m\u001b[0;34m,\u001b[0m \u001b[0;36m360\u001b[0m\u001b[0;34m,\u001b[0m \u001b[0;36m360\u001b[0m\u001b[0;34m)\u001b[0m\u001b[0;34m,\u001b[0m \u001b[0mdtype\u001b[0m\u001b[0;34m=\u001b[0m\u001b[0mnp\u001b[0m\u001b[0;34m.\u001b[0m\u001b[0mfloat32\u001b[0m\u001b[0;34m)\u001b[0m\u001b[0;34m)\u001b[0m\u001b[0;34m.\u001b[0m\u001b[0mshape\u001b[0m\u001b[0;34m[\u001b[0m\u001b[0;36m2\u001b[0m\u001b[0;34m:\u001b[0m\u001b[0;34m]\u001b[0m\u001b[0;34m)\u001b[0m\u001b[0;34m\u001b[0m\u001b[0;34m\u001b[0m\u001b[0m\n\u001b[0m\u001b[1;32m    129\u001b[0m \u001b[0;34m\u001b[0m\u001b[0m\n\u001b[1;32m    130\u001b[0m \u001b[0;32mclass\u001b[0m \u001b[0mPixelwiseSigmoidClassifier\u001b[0m\u001b[0;34m(\u001b[0m\u001b[0mchainer\u001b[0m\u001b[0;34m.\u001b[0m\u001b[0mChain\u001b[0m\u001b[0;34m)\u001b[0m\u001b[0;34m:\u001b[0m\u001b[0;34m\u001b[0m\u001b[0;34m\u001b[0m\u001b[0m\n",
            "\u001b[0;31mTypeError\u001b[0m: __init__() takes from 1 to 2 positional arguments but 3 were given"
          ]
        }
      ]
    },
    {
      "cell_type": "markdown",
      "metadata": {
        "id": "s8kfg74eJCjv",
        "colab_type": "text"
      },
      "source": [
        "### Trainerの定義\n",
        "\n",
        "次にTrainerを定義しましょう．`Trainer`オブジェクトを作成して返してくれる`create_trainer`関数を定義しましょう．各引数の定義は以下の通りです‥\n",
        "\n",
        "- ミニバッチサイズ（batchsize）\n",
        "- 学習用データセット（train）\n",
        "- 検証用データセット（val）\n",
        "- 学習を停止するタイミング（stop）\n",
        "- 使用するデバイス（device）← `-1`にするとCPU，`>=0`の場合はそのIDを持つGPU\n",
        "\n",
        "以下のセルを実行してください．"
      ]
    },
    {
      "cell_type": "code",
      "metadata": {
        "id": "m6B0K_SQI9iE",
        "colab_type": "code",
        "colab": {}
      },
      "source": [
        "from chainer import iterators\n",
        "from chainer import training\n",
        "from chainer import optimizers\n",
        "from chainer.training import extensions\n",
        "\n",
        "def create_trainer(batchsize, train, val, stop, device=-1, log_trigger=(1, 'epoch')):\n",
        "    model = FullyConvolutionalNetwork(out_h=360, out_w=360)\n",
        "    train_model = PixelwiseSigmoidClassifier(model)\n",
        "\n",
        "    optimizer = optimizers.Adam(eps=1e-05)\n",
        "    optimizer.setup(train_model)\n",
        "\n",
        "    train_iter = iterators.MultiprocessIterator(train, batchsize)\n",
        "    val_iter = iterators.MultiprocessIterator(val, batchsize, repeat=False, shuffle=False)\n",
        "\n",
        "    updater = training.StandardUpdater(train_iter, optimizer, device=device)\n",
        "\n",
        "    trainer = training.trainer.Trainer(updater, stop, out='result_fcn')\n",
        "\n",
        "    logging_attributes = [\n",
        "        'epoch', 'main/loss', 'main/miou', 'main/pa',\n",
        "        'val/main/loss', 'val/main/miou', 'val/main/pa']\n",
        "    trainer.extend(extensions.LogReport(logging_attributes), trigger=log_trigger)\n",
        "    trainer.extend(extensions.PrintReport(logging_attributes), trigger=log_trigger)\n",
        "    trainer.extend(extensions.PlotReport(['main/loss', 'val/main/loss'], 'epoch', file_name='loss.png'))\n",
        "    trainer.extend(extensions.PlotReport(['main/miou', 'val/main/miou'], 'epoch', file_name='miou.png'))\n",
        "    trainer.extend(extensions.PlotReport(['main/pa', 'val/main/pa'], 'epoch', file_name='pa.png'))\n",
        "    trainer.extend(extensions.Evaluator(val_iter, train_model, device=device), name='val')\n",
        "    trainer.extend(extensions.dump_graph('main/loss'))\n",
        "    return trainer,model"
      ],
      "execution_count": 0,
      "outputs": []
    },
    {
      "cell_type": "markdown",
      "metadata": {
        "id": "roXIPDZCJCdN",
        "colab_type": "text"
      },
      "source": [
        ""
      ]
    },
    {
      "cell_type": "code",
      "metadata": {
        "id": "dFR7X8EtIlL9",
        "colab_type": "code",
        "outputId": "925fa225-2ce9-4221-a6ea-1b37c7fd96e2",
        "colab": {
          "base_uri": "https://localhost:8080/",
          "height": 157
        }
      },
      "source": [
        "%%time\n",
        "trainer,model = create_trainer(64, train, val, (50, 'epoch'), device=0, log_trigger=(10, 'epoch'))\n",
        "trainer.run()\n",
        "chainer.serializers.save_hdf5('mymodel_gpu.h5',model)\n",
        "model.to_cpu()\n",
        "chainer.serializers.save_hdf5('mymodel_cpu.h5',model)"
      ],
      "execution_count": 0,
      "outputs": [
        {
          "output_type": "stream",
          "text": [
            "epoch       main/loss   main/miou   main/pa     val/main/loss  val/main/miou  val/main/pa\n",
            "\u001b[J10          0.516477    0.467137    0.795419    0.520902       0.479092       0.789696     \n",
            "\u001b[J20          0.409302    0.562715    0.783279    0.398226       0.62584        0.840106     \n",
            "\u001b[J30          0.336693    0.569021    0.840894    0.349029       0.572327       0.833311     \n",
            "\u001b[J40          0.320767    0.599101    0.855419    0.340272       0.599359       0.839254     \n",
            "\u001b[J50          0.354842    0.671365    0.838989    0.30046        0.622023       0.855883     \n",
            "CPU times: user 1min 8s, sys: 8.09 s, total: 1min 16s\n",
            "Wall time: 4min 48s\n"
          ],
          "name": "stdout"
        }
      ]
    },
    {
      "cell_type": "markdown",
      "metadata": {
        "id": "Xmh8UnFcIobP",
        "colab_type": "text"
      },
      "source": [
        ""
      ]
    },
    {
      "cell_type": "code",
      "metadata": {
        "id": "AcSyW6FGInTl",
        "colab_type": "code",
        "outputId": "6f61ecf6-6323-443b-a6ea-3b5afddca4ef",
        "colab": {
          "base_uri": "https://localhost:8080/",
          "height": 34
        }
      },
      "source": [
        "from IPython.display import Image\n",
        "Image('result/loss.png')\n",
        "Image('result/accuracy.png')"
      ],
      "execution_count": 0,
      "outputs": [
        {
          "output_type": "execute_result",
          "data": {
            "image/png": "result/accuracy.png",
            "text/plain": [
              "<IPython.core.display.Image object>"
            ]
          },
          "metadata": {
            "tags": []
          },
          "execution_count": 10
        }
      ]
    },
    {
      "cell_type": "code",
      "metadata": {
        "id": "7cyRQ5o7cgjw",
        "colab_type": "code",
        "outputId": "4bc94f0b-89c3-4930-e959-e80c8245a248",
        "colab": {
          "base_uri": "https://localhost:8080/",
          "height": 404
        }
      },
      "source": [
        "from chainer import cuda\n",
        "from chainercv import evaluations\n",
        "\n",
        "def evaluate(trainer, val, device=-1):\n",
        "    # Trainerオブジェクトから学習済みモデルを取り出す\n",
        "    model = trainer.updater.get_optimizer('main').target.predictor\n",
        "    chainer.serializers.load_hdf5(\"mymodel_cpu.h5\",model)\n",
        "\n",
        "    # validationデータ全部に対して予測を行う\n",
        "    preds = []\n",
        "    for img, label in val:\n",
        "        img = cuda.to_gpu(img[np.newaxis], device)\n",
        "        pred = model(img)\n",
        "        pred = cuda.to_cpu(pred.data[0, 0] > 0)\n",
        "        preds.append((pred, label[0]))\n",
        "    pred_labels, gt_labels = zip(*preds)\n",
        "\n",
        "    # 評価をして結果を表示\n",
        "    evals = evaluations.eval_semantic_segmentation(pred_labels, gt_labels)\n",
        "    print('Pixel Accuracy:', evals['pixel_accuracy'])\n",
        "    print('mIoU:', evals['miou'])\n",
        "    \n",
        "evaluate(trainer, val, device=0)\n",
        "\n",
        "def show_predicts(trainer, val, device=-1, n_sample=3):\n",
        "    # Trainerオブジェクトから学習済みモデルを取り出す\n",
        "    model = trainer.updater.get_optimizer('main').target.predictor\n",
        "\n",
        "    for i in range(n_sample):\n",
        "        img, label = val[i]\n",
        "        img2 = cuda.to_gpu(img, device)\n",
        "        pred = model(img2[np.newaxis])\n",
        "        pred = cuda.to_cpu(pred.data[0, 0] > 0)        \n",
        "        fig, axes = plt.subplots(1, 3)\n",
        "\n",
        "        axes[0].set_axis_off()\n",
        "        axes[0].imshow(pred, cmap='gray')\n",
        "\n",
        "        axes[1].set_axis_off()\n",
        "        axes[1].imshow(label[0], cmap='gray')\n",
        "\n",
        "        axes[2].set_axis_off()\n",
        "        axes[2].imshow(img[0])\n",
        "\n",
        "        plt.show()\n",
        "\n",
        "show_predicts(trainer, val, device=0)"
      ],
      "execution_count": 0,
      "outputs": [
        {
          "output_type": "error",
          "ename": "TypeError",
          "evalue": "ignored",
          "traceback": [
            "\u001b[0;31m---------------------------------------------------------------------------\u001b[0m",
            "\u001b[0;31mTypeError\u001b[0m                                 Traceback (most recent call last)",
            "\u001b[0;32m<ipython-input-15-bc4d2a439b39>\u001b[0m in \u001b[0;36m<module>\u001b[0;34m()\u001b[0m\n\u001b[1;32m     21\u001b[0m     \u001b[0mprint\u001b[0m\u001b[0;34m(\u001b[0m\u001b[0;34m'mIoU:'\u001b[0m\u001b[0;34m,\u001b[0m \u001b[0mevals\u001b[0m\u001b[0;34m[\u001b[0m\u001b[0;34m'miou'\u001b[0m\u001b[0;34m]\u001b[0m\u001b[0;34m)\u001b[0m\u001b[0;34m\u001b[0m\u001b[0;34m\u001b[0m\u001b[0m\n\u001b[1;32m     22\u001b[0m \u001b[0;34m\u001b[0m\u001b[0m\n\u001b[0;32m---> 23\u001b[0;31m \u001b[0mevaluate\u001b[0m\u001b[0;34m(\u001b[0m\u001b[0mtrainer\u001b[0m\u001b[0;34m,\u001b[0m \u001b[0mval\u001b[0m\u001b[0;34m,\u001b[0m \u001b[0mdevice\u001b[0m\u001b[0;34m=\u001b[0m\u001b[0;36m0\u001b[0m\u001b[0;34m)\u001b[0m\u001b[0;34m\u001b[0m\u001b[0;34m\u001b[0m\u001b[0m\n\u001b[0m\u001b[1;32m     24\u001b[0m \u001b[0;34m\u001b[0m\u001b[0m\n\u001b[1;32m     25\u001b[0m \u001b[0;32mdef\u001b[0m \u001b[0mshow_predicts\u001b[0m\u001b[0;34m(\u001b[0m\u001b[0mtrainer\u001b[0m\u001b[0;34m,\u001b[0m \u001b[0mval\u001b[0m\u001b[0;34m,\u001b[0m \u001b[0mdevice\u001b[0m\u001b[0;34m=\u001b[0m\u001b[0;34m-\u001b[0m\u001b[0;36m1\u001b[0m\u001b[0;34m,\u001b[0m \u001b[0mn_sample\u001b[0m\u001b[0;34m=\u001b[0m\u001b[0;36m3\u001b[0m\u001b[0;34m)\u001b[0m\u001b[0;34m:\u001b[0m\u001b[0;34m\u001b[0m\u001b[0;34m\u001b[0m\u001b[0m\n",
            "\u001b[0;32m<ipython-input-15-bc4d2a439b39>\u001b[0m in \u001b[0;36mevaluate\u001b[0;34m(trainer, val, device)\u001b[0m\n\u001b[1;32m     11\u001b[0m     \u001b[0;32mfor\u001b[0m \u001b[0mimg\u001b[0m\u001b[0;34m,\u001b[0m \u001b[0mlabel\u001b[0m \u001b[0;32min\u001b[0m \u001b[0mval\u001b[0m\u001b[0;34m:\u001b[0m\u001b[0;34m\u001b[0m\u001b[0;34m\u001b[0m\u001b[0m\n\u001b[1;32m     12\u001b[0m         \u001b[0mimg\u001b[0m \u001b[0;34m=\u001b[0m \u001b[0mcuda\u001b[0m\u001b[0;34m.\u001b[0m\u001b[0mto_gpu\u001b[0m\u001b[0;34m(\u001b[0m\u001b[0mimg\u001b[0m\u001b[0;34m[\u001b[0m\u001b[0mnp\u001b[0m\u001b[0;34m.\u001b[0m\u001b[0mnewaxis\u001b[0m\u001b[0;34m]\u001b[0m\u001b[0;34m,\u001b[0m \u001b[0mdevice\u001b[0m\u001b[0;34m)\u001b[0m\u001b[0;34m\u001b[0m\u001b[0;34m\u001b[0m\u001b[0m\n\u001b[0;32m---> 13\u001b[0;31m         \u001b[0mpred\u001b[0m \u001b[0;34m=\u001b[0m \u001b[0mmodel\u001b[0m\u001b[0;34m(\u001b[0m\u001b[0mimg\u001b[0m\u001b[0;34m)\u001b[0m\u001b[0;34m\u001b[0m\u001b[0;34m\u001b[0m\u001b[0m\n\u001b[0m\u001b[1;32m     14\u001b[0m         \u001b[0mpred\u001b[0m \u001b[0;34m=\u001b[0m \u001b[0mcuda\u001b[0m\u001b[0;34m.\u001b[0m\u001b[0mto_cpu\u001b[0m\u001b[0;34m(\u001b[0m\u001b[0mpred\u001b[0m\u001b[0;34m.\u001b[0m\u001b[0mdata\u001b[0m\u001b[0;34m[\u001b[0m\u001b[0;36m0\u001b[0m\u001b[0;34m,\u001b[0m \u001b[0;36m0\u001b[0m\u001b[0;34m]\u001b[0m \u001b[0;34m>\u001b[0m \u001b[0;36m0\u001b[0m\u001b[0;34m)\u001b[0m\u001b[0;34m\u001b[0m\u001b[0;34m\u001b[0m\u001b[0m\n\u001b[1;32m     15\u001b[0m         \u001b[0mpreds\u001b[0m\u001b[0;34m.\u001b[0m\u001b[0mappend\u001b[0m\u001b[0;34m(\u001b[0m\u001b[0;34m(\u001b[0m\u001b[0mpred\u001b[0m\u001b[0;34m,\u001b[0m \u001b[0mlabel\u001b[0m\u001b[0;34m[\u001b[0m\u001b[0;36m0\u001b[0m\u001b[0;34m]\u001b[0m\u001b[0;34m)\u001b[0m\u001b[0;34m)\u001b[0m\u001b[0;34m\u001b[0m\u001b[0;34m\u001b[0m\u001b[0m\n",
            "\u001b[0;32m/usr/local/lib/python3.6/dist-packages/chainer/link.py\u001b[0m in \u001b[0;36m__call__\u001b[0;34m(self, *args, **kwargs)\u001b[0m\n\u001b[1;32m    292\u001b[0m             \u001b[0;31m# forward is implemented in the child classes\u001b[0m\u001b[0;34m\u001b[0m\u001b[0;34m\u001b[0m\u001b[0;34m\u001b[0m\u001b[0m\n\u001b[1;32m    293\u001b[0m             \u001b[0mforward\u001b[0m \u001b[0;34m=\u001b[0m \u001b[0mself\u001b[0m\u001b[0;34m.\u001b[0m\u001b[0mforward\u001b[0m  \u001b[0;31m# type: ignore\u001b[0m\u001b[0;34m\u001b[0m\u001b[0;34m\u001b[0m\u001b[0m\n\u001b[0;32m--> 294\u001b[0;31m         \u001b[0mout\u001b[0m \u001b[0;34m=\u001b[0m \u001b[0mforward\u001b[0m\u001b[0;34m(\u001b[0m\u001b[0;34m*\u001b[0m\u001b[0margs\u001b[0m\u001b[0;34m,\u001b[0m \u001b[0;34m**\u001b[0m\u001b[0mkwargs\u001b[0m\u001b[0;34m)\u001b[0m\u001b[0;34m\u001b[0m\u001b[0;34m\u001b[0m\u001b[0m\n\u001b[0m\u001b[1;32m    295\u001b[0m \u001b[0;34m\u001b[0m\u001b[0m\n\u001b[1;32m    296\u001b[0m         \u001b[0;31m# Call forward_postprocess hook\u001b[0m\u001b[0;34m\u001b[0m\u001b[0;34m\u001b[0m\u001b[0;34m\u001b[0m\u001b[0m\n",
            "\u001b[0;32m<ipython-input-8-718af3a5f1ee>\u001b[0m in \u001b[0;36mforward\u001b[0;34m(self, x)\u001b[0m\n\u001b[1;32m     30\u001b[0m \u001b[0;34m\u001b[0m\u001b[0m\n\u001b[1;32m     31\u001b[0m     \u001b[0;32mdef\u001b[0m \u001b[0mforward\u001b[0m\u001b[0;34m(\u001b[0m\u001b[0mself\u001b[0m\u001b[0;34m,\u001b[0m \u001b[0mx\u001b[0m\u001b[0;34m)\u001b[0m\u001b[0;34m:\u001b[0m\u001b[0;34m\u001b[0m\u001b[0;34m\u001b[0m\u001b[0m\n\u001b[0;32m---> 32\u001b[0;31m         \u001b[0mh\u001b[0m \u001b[0;34m=\u001b[0m \u001b[0mF\u001b[0m\u001b[0;34m.\u001b[0m\u001b[0mrelu\u001b[0m\u001b[0;34m(\u001b[0m\u001b[0mself\u001b[0m\u001b[0;34m.\u001b[0m\u001b[0mconv1\u001b[0m\u001b[0;34m(\u001b[0m\u001b[0mx\u001b[0m\u001b[0;34m)\u001b[0m\u001b[0;34m)\u001b[0m\u001b[0;34m\u001b[0m\u001b[0;34m\u001b[0m\u001b[0m\n\u001b[0m\u001b[1;32m     33\u001b[0m         \u001b[0mh\u001b[0m \u001b[0;34m=\u001b[0m \u001b[0mF\u001b[0m\u001b[0;34m.\u001b[0m\u001b[0mmax_pooling_2d\u001b[0m\u001b[0;34m(\u001b[0m\u001b[0mh\u001b[0m\u001b[0;34m,\u001b[0m \u001b[0;36m2\u001b[0m\u001b[0;34m,\u001b[0m \u001b[0;36m2\u001b[0m\u001b[0;34m)\u001b[0m\u001b[0;34m\u001b[0m\u001b[0;34m\u001b[0m\u001b[0m\n\u001b[1;32m     34\u001b[0m \u001b[0;34m\u001b[0m\u001b[0m\n",
            "\u001b[0;32m/usr/local/lib/python3.6/dist-packages/chainer/link.py\u001b[0m in \u001b[0;36m__call__\u001b[0;34m(self, *args, **kwargs)\u001b[0m\n\u001b[1;32m    292\u001b[0m             \u001b[0;31m# forward is implemented in the child classes\u001b[0m\u001b[0;34m\u001b[0m\u001b[0;34m\u001b[0m\u001b[0;34m\u001b[0m\u001b[0m\n\u001b[1;32m    293\u001b[0m             \u001b[0mforward\u001b[0m \u001b[0;34m=\u001b[0m \u001b[0mself\u001b[0m\u001b[0;34m.\u001b[0m\u001b[0mforward\u001b[0m  \u001b[0;31m# type: ignore\u001b[0m\u001b[0;34m\u001b[0m\u001b[0;34m\u001b[0m\u001b[0m\n\u001b[0;32m--> 294\u001b[0;31m         \u001b[0mout\u001b[0m \u001b[0;34m=\u001b[0m \u001b[0mforward\u001b[0m\u001b[0;34m(\u001b[0m\u001b[0;34m*\u001b[0m\u001b[0margs\u001b[0m\u001b[0;34m,\u001b[0m \u001b[0;34m**\u001b[0m\u001b[0mkwargs\u001b[0m\u001b[0;34m)\u001b[0m\u001b[0;34m\u001b[0m\u001b[0;34m\u001b[0m\u001b[0m\n\u001b[0m\u001b[1;32m    295\u001b[0m \u001b[0;34m\u001b[0m\u001b[0m\n\u001b[1;32m    296\u001b[0m         \u001b[0;31m# Call forward_postprocess hook\u001b[0m\u001b[0;34m\u001b[0m\u001b[0;34m\u001b[0m\u001b[0;34m\u001b[0m\u001b[0m\n",
            "\u001b[0;32m/usr/local/lib/python3.6/dist-packages/chainer/links/connection/convolution_2d.py\u001b[0m in \u001b[0;36mforward\u001b[0;34m(self, x)\u001b[0m\n\u001b[1;32m    182\u001b[0m         return convolution_2d.convolution_2d(\n\u001b[1;32m    183\u001b[0m             \u001b[0mx\u001b[0m\u001b[0;34m,\u001b[0m \u001b[0mself\u001b[0m\u001b[0;34m.\u001b[0m\u001b[0mW\u001b[0m\u001b[0;34m,\u001b[0m \u001b[0mself\u001b[0m\u001b[0;34m.\u001b[0m\u001b[0mb\u001b[0m\u001b[0;34m,\u001b[0m \u001b[0mself\u001b[0m\u001b[0;34m.\u001b[0m\u001b[0mstride\u001b[0m\u001b[0;34m,\u001b[0m \u001b[0mself\u001b[0m\u001b[0;34m.\u001b[0m\u001b[0mpad\u001b[0m\u001b[0;34m,\u001b[0m \u001b[0mdilate\u001b[0m\u001b[0;34m=\u001b[0m\u001b[0mself\u001b[0m\u001b[0;34m.\u001b[0m\u001b[0mdilate\u001b[0m\u001b[0;34m,\u001b[0m\u001b[0;34m\u001b[0m\u001b[0;34m\u001b[0m\u001b[0m\n\u001b[0;32m--> 184\u001b[0;31m             groups=self.groups)\n\u001b[0m\u001b[1;32m    185\u001b[0m \u001b[0;34m\u001b[0m\u001b[0m\n\u001b[1;32m    186\u001b[0m \u001b[0;34m\u001b[0m\u001b[0m\n",
            "\u001b[0;32m/usr/local/lib/python3.6/dist-packages/chainer/functions/connection/convolution_2d.py\u001b[0m in \u001b[0;36mconvolution_2d\u001b[0;34m(x, W, b, stride, pad, cover_all, **kwargs)\u001b[0m\n\u001b[1;32m    587\u001b[0m     \u001b[0;32melse\u001b[0m\u001b[0;34m:\u001b[0m\u001b[0;34m\u001b[0m\u001b[0;34m\u001b[0m\u001b[0m\n\u001b[1;32m    588\u001b[0m         \u001b[0margs\u001b[0m \u001b[0;34m=\u001b[0m \u001b[0mx\u001b[0m\u001b[0;34m,\u001b[0m \u001b[0mW\u001b[0m\u001b[0;34m,\u001b[0m \u001b[0mb\u001b[0m\u001b[0;34m\u001b[0m\u001b[0;34m\u001b[0m\u001b[0m\n\u001b[0;32m--> 589\u001b[0;31m     \u001b[0my\u001b[0m\u001b[0;34m,\u001b[0m \u001b[0;34m=\u001b[0m \u001b[0mfnode\u001b[0m\u001b[0;34m.\u001b[0m\u001b[0mapply\u001b[0m\u001b[0;34m(\u001b[0m\u001b[0margs\u001b[0m\u001b[0;34m)\u001b[0m\u001b[0;34m\u001b[0m\u001b[0;34m\u001b[0m\u001b[0m\n\u001b[0m\u001b[1;32m    590\u001b[0m     \u001b[0;32mreturn\u001b[0m \u001b[0my\u001b[0m\u001b[0;34m\u001b[0m\u001b[0;34m\u001b[0m\u001b[0m\n",
            "\u001b[0;32m/usr/local/lib/python3.6/dist-packages/chainer/function_node.py\u001b[0m in \u001b[0;36mapply\u001b[0;34m(self, inputs)\u001b[0m\n\u001b[1;32m    287\u001b[0m             \u001b[0mself\u001b[0m\u001b[0;34m.\u001b[0m\u001b[0mchainerx_device\u001b[0m \u001b[0;34m=\u001b[0m \u001b[0mchainerx_device\u001b[0m\u001b[0;34m\u001b[0m\u001b[0;34m\u001b[0m\u001b[0m\n\u001b[1;32m    288\u001b[0m \u001b[0;34m\u001b[0m\u001b[0m\n\u001b[0;32m--> 289\u001b[0;31m         \u001b[0mutils\u001b[0m\u001b[0;34m.\u001b[0m\u001b[0m_check_arrays_forward_compatible\u001b[0m\u001b[0;34m(\u001b[0m\u001b[0min_data\u001b[0m\u001b[0;34m,\u001b[0m \u001b[0mself\u001b[0m\u001b[0;34m.\u001b[0m\u001b[0mlabel\u001b[0m\u001b[0;34m)\u001b[0m\u001b[0;34m\u001b[0m\u001b[0;34m\u001b[0m\u001b[0m\n\u001b[0m\u001b[1;32m    290\u001b[0m \u001b[0;34m\u001b[0m\u001b[0m\n\u001b[1;32m    291\u001b[0m         \u001b[0mis_debug\u001b[0m \u001b[0;34m=\u001b[0m \u001b[0mchainer\u001b[0m\u001b[0;34m.\u001b[0m\u001b[0mis_debug\u001b[0m\u001b[0;34m(\u001b[0m\u001b[0;34m)\u001b[0m\u001b[0;34m\u001b[0m\u001b[0;34m\u001b[0m\u001b[0m\n",
            "\u001b[0;32m/usr/local/lib/python3.6/dist-packages/chainer/utils/__init__.py\u001b[0m in \u001b[0;36m_check_arrays_forward_compatible\u001b[0;34m(arrays, label)\u001b[0m\n\u001b[1;32m     91\u001b[0m             'Actual: {}'.format(\n\u001b[1;32m     92\u001b[0m                 \u001b[0;34m' ({})'\u001b[0m\u001b[0;34m.\u001b[0m\u001b[0mformat\u001b[0m\u001b[0;34m(\u001b[0m\u001b[0mlabel\u001b[0m\u001b[0;34m)\u001b[0m \u001b[0;32mif\u001b[0m \u001b[0mlabel\u001b[0m \u001b[0;32mis\u001b[0m \u001b[0;32mnot\u001b[0m \u001b[0;32mNone\u001b[0m \u001b[0;32melse\u001b[0m \u001b[0;34m''\u001b[0m\u001b[0;34m,\u001b[0m\u001b[0;34m\u001b[0m\u001b[0;34m\u001b[0m\u001b[0m\n\u001b[0;32m---> 93\u001b[0;31m                 ', '.join(str(type(a)) for a in arrays)))\n\u001b[0m\u001b[1;32m     94\u001b[0m \u001b[0;34m\u001b[0m\u001b[0m\n\u001b[1;32m     95\u001b[0m \u001b[0;34m\u001b[0m\u001b[0m\n",
            "\u001b[0;31mTypeError\u001b[0m: incompatible array types are mixed in the forward input (Convolution2DFunction).\nActual: <class 'cupy.core.core.ndarray'>, <class 'numpy.ndarray'>, <class 'numpy.ndarray'>"
          ]
        }
      ]
    }
  ]
}